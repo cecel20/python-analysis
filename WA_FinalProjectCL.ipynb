{
 "cells": [
  {
   "cell_type": "raw",
   "metadata": {},
   "source": [
    "Housing price in Washington state\n",
    "A data set for the sale price of houses and the basic information of the house in Washington, USA.\n",
    "Based on the data analysis performace, preditc the factors majorly affected the trend of house price."
   ]
  },
  {
   "cell_type": "code",
   "execution_count": null,
   "metadata": {},
   "outputs": [],
   "source": [
    "Importing the Dataset"
   ]
  },
  {
   "cell_type": "code",
   "execution_count": 2,
   "metadata": {},
   "outputs": [
    {
     "data": {
      "text/html": [
       "\n",
       "    <div class=\"bk-root\">\n",
       "        <a href=\"https://bokeh.pydata.org\" target=\"_blank\" class=\"bk-logo bk-logo-small bk-logo-notebook\"></a>\n",
       "        <span id=\"688f2cc7-1df6-48a3-902b-0869956cb0ea\">Loading BokehJS ...</span>\n",
       "    </div>"
      ]
     },
     "metadata": {},
     "output_type": "display_data"
    },
    {
     "data": {
      "application/javascript": [
       "\n",
       "(function(root) {\n",
       "  function now() {\n",
       "    return new Date();\n",
       "  }\n",
       "\n",
       "  var force = true;\n",
       "\n",
       "  if (typeof (root._bokeh_onload_callbacks) === \"undefined\" || force === true) {\n",
       "    root._bokeh_onload_callbacks = [];\n",
       "    root._bokeh_is_loading = undefined;\n",
       "  }\n",
       "\n",
       "  var JS_MIME_TYPE = 'application/javascript';\n",
       "  var HTML_MIME_TYPE = 'text/html';\n",
       "  var EXEC_MIME_TYPE = 'application/vnd.bokehjs_exec.v0+json';\n",
       "  var CLASS_NAME = 'output_bokeh rendered_html';\n",
       "\n",
       "  /**\n",
       "   * Render data to the DOM node\n",
       "   */\n",
       "  function render(props, node) {\n",
       "    var script = document.createElement(\"script\");\n",
       "    node.appendChild(script);\n",
       "  }\n",
       "\n",
       "  /**\n",
       "   * Handle when an output is cleared or removed\n",
       "   */\n",
       "  function handleClearOutput(event, handle) {\n",
       "    var cell = handle.cell;\n",
       "\n",
       "    var id = cell.output_area._bokeh_element_id;\n",
       "    var server_id = cell.output_area._bokeh_server_id;\n",
       "    // Clean up Bokeh references\n",
       "    if (id != null && id in Bokeh.index) {\n",
       "      Bokeh.index[id].model.document.clear();\n",
       "      delete Bokeh.index[id];\n",
       "    }\n",
       "\n",
       "    if (server_id !== undefined) {\n",
       "      // Clean up Bokeh references\n",
       "      var cmd = \"from bokeh.io.state import curstate; print(curstate().uuid_to_server['\" + server_id + \"'].get_sessions()[0].document.roots[0]._id)\";\n",
       "      cell.notebook.kernel.execute(cmd, {\n",
       "        iopub: {\n",
       "          output: function(msg) {\n",
       "            var id = msg.content.text.trim();\n",
       "            if (id in Bokeh.index) {\n",
       "              Bokeh.index[id].model.document.clear();\n",
       "              delete Bokeh.index[id];\n",
       "            }\n",
       "          }\n",
       "        }\n",
       "      });\n",
       "      // Destroy server and session\n",
       "      var cmd = \"import bokeh.io.notebook as ion; ion.destroy_server('\" + server_id + \"')\";\n",
       "      cell.notebook.kernel.execute(cmd);\n",
       "    }\n",
       "  }\n",
       "\n",
       "  /**\n",
       "   * Handle when a new output is added\n",
       "   */\n",
       "  function handleAddOutput(event, handle) {\n",
       "    var output_area = handle.output_area;\n",
       "    var output = handle.output;\n",
       "\n",
       "    // limit handleAddOutput to display_data with EXEC_MIME_TYPE content only\n",
       "    if ((output.output_type != \"display_data\") || (!output.data.hasOwnProperty(EXEC_MIME_TYPE))) {\n",
       "      return\n",
       "    }\n",
       "\n",
       "    var toinsert = output_area.element.find(\".\" + CLASS_NAME.split(' ')[0]);\n",
       "\n",
       "    if (output.metadata[EXEC_MIME_TYPE][\"id\"] !== undefined) {\n",
       "      toinsert[toinsert.length - 1].firstChild.textContent = output.data[JS_MIME_TYPE];\n",
       "      // store reference to embed id on output_area\n",
       "      output_area._bokeh_element_id = output.metadata[EXEC_MIME_TYPE][\"id\"];\n",
       "    }\n",
       "    if (output.metadata[EXEC_MIME_TYPE][\"server_id\"] !== undefined) {\n",
       "      var bk_div = document.createElement(\"div\");\n",
       "      bk_div.innerHTML = output.data[HTML_MIME_TYPE];\n",
       "      var script_attrs = bk_div.children[0].attributes;\n",
       "      for (var i = 0; i < script_attrs.length; i++) {\n",
       "        toinsert[toinsert.length - 1].firstChild.setAttribute(script_attrs[i].name, script_attrs[i].value);\n",
       "      }\n",
       "      // store reference to server id on output_area\n",
       "      output_area._bokeh_server_id = output.metadata[EXEC_MIME_TYPE][\"server_id\"];\n",
       "    }\n",
       "  }\n",
       "\n",
       "  function register_renderer(events, OutputArea) {\n",
       "\n",
       "    function append_mime(data, metadata, element) {\n",
       "      // create a DOM node to render to\n",
       "      var toinsert = this.create_output_subarea(\n",
       "        metadata,\n",
       "        CLASS_NAME,\n",
       "        EXEC_MIME_TYPE\n",
       "      );\n",
       "      this.keyboard_manager.register_events(toinsert);\n",
       "      // Render to node\n",
       "      var props = {data: data, metadata: metadata[EXEC_MIME_TYPE]};\n",
       "      render(props, toinsert[toinsert.length - 1]);\n",
       "      element.append(toinsert);\n",
       "      return toinsert\n",
       "    }\n",
       "\n",
       "    /* Handle when an output is cleared or removed */\n",
       "    events.on('clear_output.CodeCell', handleClearOutput);\n",
       "    events.on('delete.Cell', handleClearOutput);\n",
       "\n",
       "    /* Handle when a new output is added */\n",
       "    events.on('output_added.OutputArea', handleAddOutput);\n",
       "\n",
       "    /**\n",
       "     * Register the mime type and append_mime function with output_area\n",
       "     */\n",
       "    OutputArea.prototype.register_mime_type(EXEC_MIME_TYPE, append_mime, {\n",
       "      /* Is output safe? */\n",
       "      safe: true,\n",
       "      /* Index of renderer in `output_area.display_order` */\n",
       "      index: 0\n",
       "    });\n",
       "  }\n",
       "\n",
       "  // register the mime type if in Jupyter Notebook environment and previously unregistered\n",
       "  if (root.Jupyter !== undefined) {\n",
       "    var events = require('base/js/events');\n",
       "    var OutputArea = require('notebook/js/outputarea').OutputArea;\n",
       "\n",
       "    if (OutputArea.prototype.mime_types().indexOf(EXEC_MIME_TYPE) == -1) {\n",
       "      register_renderer(events, OutputArea);\n",
       "    }\n",
       "  }\n",
       "\n",
       "  \n",
       "  if (typeof (root._bokeh_timeout) === \"undefined\" || force === true) {\n",
       "    root._bokeh_timeout = Date.now() + 5000;\n",
       "    root._bokeh_failed_load = false;\n",
       "  }\n",
       "\n",
       "  var NB_LOAD_WARNING = {'data': {'text/html':\n",
       "     \"<div style='background-color: #fdd'>\\n\"+\n",
       "     \"<p>\\n\"+\n",
       "     \"BokehJS does not appear to have successfully loaded. If loading BokehJS from CDN, this \\n\"+\n",
       "     \"may be due to a slow or bad network connection. Possible fixes:\\n\"+\n",
       "     \"</p>\\n\"+\n",
       "     \"<ul>\\n\"+\n",
       "     \"<li>re-rerun `output_notebook()` to attempt to load from CDN again, or</li>\\n\"+\n",
       "     \"<li>use INLINE resources instead, as so:</li>\\n\"+\n",
       "     \"</ul>\\n\"+\n",
       "     \"<code>\\n\"+\n",
       "     \"from bokeh.resources import INLINE\\n\"+\n",
       "     \"output_notebook(resources=INLINE)\\n\"+\n",
       "     \"</code>\\n\"+\n",
       "     \"</div>\"}};\n",
       "\n",
       "  function display_loaded() {\n",
       "    var el = document.getElementById(\"688f2cc7-1df6-48a3-902b-0869956cb0ea\");\n",
       "    if (el != null) {\n",
       "      el.textContent = \"BokehJS is loading...\";\n",
       "    }\n",
       "    if (root.Bokeh !== undefined) {\n",
       "      if (el != null) {\n",
       "        el.textContent = \"BokehJS \" + root.Bokeh.version + \" successfully loaded.\";\n",
       "      }\n",
       "    } else if (Date.now() < root._bokeh_timeout) {\n",
       "      setTimeout(display_loaded, 100)\n",
       "    }\n",
       "  }\n",
       "\n",
       "\n",
       "  function run_callbacks() {\n",
       "    try {\n",
       "      root._bokeh_onload_callbacks.forEach(function(callback) { callback() });\n",
       "    }\n",
       "    finally {\n",
       "      delete root._bokeh_onload_callbacks\n",
       "    }\n",
       "    console.info(\"Bokeh: all callbacks have finished\");\n",
       "  }\n",
       "\n",
       "  function load_libs(js_urls, callback) {\n",
       "    root._bokeh_onload_callbacks.push(callback);\n",
       "    if (root._bokeh_is_loading > 0) {\n",
       "      console.log(\"Bokeh: BokehJS is being loaded, scheduling callback at\", now());\n",
       "      return null;\n",
       "    }\n",
       "    if (js_urls == null || js_urls.length === 0) {\n",
       "      run_callbacks();\n",
       "      return null;\n",
       "    }\n",
       "    console.log(\"Bokeh: BokehJS not loaded, scheduling load and callback at\", now());\n",
       "    root._bokeh_is_loading = js_urls.length;\n",
       "    for (var i = 0; i < js_urls.length; i++) {\n",
       "      var url = js_urls[i];\n",
       "      var s = document.createElement('script');\n",
       "      s.src = url;\n",
       "      s.async = false;\n",
       "      s.onreadystatechange = s.onload = function() {\n",
       "        root._bokeh_is_loading--;\n",
       "        if (root._bokeh_is_loading === 0) {\n",
       "          console.log(\"Bokeh: all BokehJS libraries loaded\");\n",
       "          run_callbacks()\n",
       "        }\n",
       "      };\n",
       "      s.onerror = function() {\n",
       "        console.warn(\"failed to load library \" + url);\n",
       "      };\n",
       "      console.log(\"Bokeh: injecting script tag for BokehJS library: \", url);\n",
       "      document.getElementsByTagName(\"head\")[0].appendChild(s);\n",
       "    }\n",
       "  };var element = document.getElementById(\"688f2cc7-1df6-48a3-902b-0869956cb0ea\");\n",
       "  if (element == null) {\n",
       "    console.log(\"Bokeh: ERROR: autoload.js configured with elementid '688f2cc7-1df6-48a3-902b-0869956cb0ea' but no matching script tag was found. \")\n",
       "    return false;\n",
       "  }\n",
       "\n",
       "  var js_urls = [\"https://cdn.pydata.org/bokeh/release/bokeh-0.13.0.min.js\", \"https://cdn.pydata.org/bokeh/release/bokeh-widgets-0.13.0.min.js\", \"https://cdn.pydata.org/bokeh/release/bokeh-tables-0.13.0.min.js\", \"https://cdn.pydata.org/bokeh/release/bokeh-gl-0.13.0.min.js\"];\n",
       "\n",
       "  var inline_js = [\n",
       "    function(Bokeh) {\n",
       "      Bokeh.set_log_level(\"info\");\n",
       "    },\n",
       "    \n",
       "    function(Bokeh) {\n",
       "      \n",
       "    },\n",
       "    function(Bokeh) {\n",
       "      console.log(\"Bokeh: injecting CSS: https://cdn.pydata.org/bokeh/release/bokeh-0.13.0.min.css\");\n",
       "      Bokeh.embed.inject_css(\"https://cdn.pydata.org/bokeh/release/bokeh-0.13.0.min.css\");\n",
       "      console.log(\"Bokeh: injecting CSS: https://cdn.pydata.org/bokeh/release/bokeh-widgets-0.13.0.min.css\");\n",
       "      Bokeh.embed.inject_css(\"https://cdn.pydata.org/bokeh/release/bokeh-widgets-0.13.0.min.css\");\n",
       "      console.log(\"Bokeh: injecting CSS: https://cdn.pydata.org/bokeh/release/bokeh-tables-0.13.0.min.css\");\n",
       "      Bokeh.embed.inject_css(\"https://cdn.pydata.org/bokeh/release/bokeh-tables-0.13.0.min.css\");\n",
       "    }\n",
       "  ];\n",
       "\n",
       "  function run_inline_js() {\n",
       "    \n",
       "    if ((root.Bokeh !== undefined) || (force === true)) {\n",
       "      for (var i = 0; i < inline_js.length; i++) {\n",
       "        inline_js[i].call(root, root.Bokeh);\n",
       "      }if (force === true) {\n",
       "        display_loaded();\n",
       "      }} else if (Date.now() < root._bokeh_timeout) {\n",
       "      setTimeout(run_inline_js, 100);\n",
       "    } else if (!root._bokeh_failed_load) {\n",
       "      console.log(\"Bokeh: BokehJS failed to load within specified timeout.\");\n",
       "      root._bokeh_failed_load = true;\n",
       "    } else if (force !== true) {\n",
       "      var cell = $(document.getElementById(\"688f2cc7-1df6-48a3-902b-0869956cb0ea\")).parents('.cell').data().cell;\n",
       "      cell.output_area.append_execute_result(NB_LOAD_WARNING)\n",
       "    }\n",
       "\n",
       "  }\n",
       "\n",
       "  if (root._bokeh_is_loading === 0) {\n",
       "    console.log(\"Bokeh: BokehJS loaded, going straight to plotting\");\n",
       "    run_inline_js();\n",
       "  } else {\n",
       "    load_libs(js_urls, function() {\n",
       "      console.log(\"Bokeh: BokehJS plotting callback run at\", now());\n",
       "      run_inline_js();\n",
       "    });\n",
       "  }\n",
       "}(window));"
      ],
      "application/vnd.bokehjs_load.v0+json": "\n(function(root) {\n  function now() {\n    return new Date();\n  }\n\n  var force = true;\n\n  if (typeof (root._bokeh_onload_callbacks) === \"undefined\" || force === true) {\n    root._bokeh_onload_callbacks = [];\n    root._bokeh_is_loading = undefined;\n  }\n\n  \n\n  \n  if (typeof (root._bokeh_timeout) === \"undefined\" || force === true) {\n    root._bokeh_timeout = Date.now() + 5000;\n    root._bokeh_failed_load = false;\n  }\n\n  var NB_LOAD_WARNING = {'data': {'text/html':\n     \"<div style='background-color: #fdd'>\\n\"+\n     \"<p>\\n\"+\n     \"BokehJS does not appear to have successfully loaded. If loading BokehJS from CDN, this \\n\"+\n     \"may be due to a slow or bad network connection. Possible fixes:\\n\"+\n     \"</p>\\n\"+\n     \"<ul>\\n\"+\n     \"<li>re-rerun `output_notebook()` to attempt to load from CDN again, or</li>\\n\"+\n     \"<li>use INLINE resources instead, as so:</li>\\n\"+\n     \"</ul>\\n\"+\n     \"<code>\\n\"+\n     \"from bokeh.resources import INLINE\\n\"+\n     \"output_notebook(resources=INLINE)\\n\"+\n     \"</code>\\n\"+\n     \"</div>\"}};\n\n  function display_loaded() {\n    var el = document.getElementById(\"688f2cc7-1df6-48a3-902b-0869956cb0ea\");\n    if (el != null) {\n      el.textContent = \"BokehJS is loading...\";\n    }\n    if (root.Bokeh !== undefined) {\n      if (el != null) {\n        el.textContent = \"BokehJS \" + root.Bokeh.version + \" successfully loaded.\";\n      }\n    } else if (Date.now() < root._bokeh_timeout) {\n      setTimeout(display_loaded, 100)\n    }\n  }\n\n\n  function run_callbacks() {\n    try {\n      root._bokeh_onload_callbacks.forEach(function(callback) { callback() });\n    }\n    finally {\n      delete root._bokeh_onload_callbacks\n    }\n    console.info(\"Bokeh: all callbacks have finished\");\n  }\n\n  function load_libs(js_urls, callback) {\n    root._bokeh_onload_callbacks.push(callback);\n    if (root._bokeh_is_loading > 0) {\n      console.log(\"Bokeh: BokehJS is being loaded, scheduling callback at\", now());\n      return null;\n    }\n    if (js_urls == null || js_urls.length === 0) {\n      run_callbacks();\n      return null;\n    }\n    console.log(\"Bokeh: BokehJS not loaded, scheduling load and callback at\", now());\n    root._bokeh_is_loading = js_urls.length;\n    for (var i = 0; i < js_urls.length; i++) {\n      var url = js_urls[i];\n      var s = document.createElement('script');\n      s.src = url;\n      s.async = false;\n      s.onreadystatechange = s.onload = function() {\n        root._bokeh_is_loading--;\n        if (root._bokeh_is_loading === 0) {\n          console.log(\"Bokeh: all BokehJS libraries loaded\");\n          run_callbacks()\n        }\n      };\n      s.onerror = function() {\n        console.warn(\"failed to load library \" + url);\n      };\n      console.log(\"Bokeh: injecting script tag for BokehJS library: \", url);\n      document.getElementsByTagName(\"head\")[0].appendChild(s);\n    }\n  };var element = document.getElementById(\"688f2cc7-1df6-48a3-902b-0869956cb0ea\");\n  if (element == null) {\n    console.log(\"Bokeh: ERROR: autoload.js configured with elementid '688f2cc7-1df6-48a3-902b-0869956cb0ea' but no matching script tag was found. \")\n    return false;\n  }\n\n  var js_urls = [\"https://cdn.pydata.org/bokeh/release/bokeh-0.13.0.min.js\", \"https://cdn.pydata.org/bokeh/release/bokeh-widgets-0.13.0.min.js\", \"https://cdn.pydata.org/bokeh/release/bokeh-tables-0.13.0.min.js\", \"https://cdn.pydata.org/bokeh/release/bokeh-gl-0.13.0.min.js\"];\n\n  var inline_js = [\n    function(Bokeh) {\n      Bokeh.set_log_level(\"info\");\n    },\n    \n    function(Bokeh) {\n      \n    },\n    function(Bokeh) {\n      console.log(\"Bokeh: injecting CSS: https://cdn.pydata.org/bokeh/release/bokeh-0.13.0.min.css\");\n      Bokeh.embed.inject_css(\"https://cdn.pydata.org/bokeh/release/bokeh-0.13.0.min.css\");\n      console.log(\"Bokeh: injecting CSS: https://cdn.pydata.org/bokeh/release/bokeh-widgets-0.13.0.min.css\");\n      Bokeh.embed.inject_css(\"https://cdn.pydata.org/bokeh/release/bokeh-widgets-0.13.0.min.css\");\n      console.log(\"Bokeh: injecting CSS: https://cdn.pydata.org/bokeh/release/bokeh-tables-0.13.0.min.css\");\n      Bokeh.embed.inject_css(\"https://cdn.pydata.org/bokeh/release/bokeh-tables-0.13.0.min.css\");\n    }\n  ];\n\n  function run_inline_js() {\n    \n    if ((root.Bokeh !== undefined) || (force === true)) {\n      for (var i = 0; i < inline_js.length; i++) {\n        inline_js[i].call(root, root.Bokeh);\n      }if (force === true) {\n        display_loaded();\n      }} else if (Date.now() < root._bokeh_timeout) {\n      setTimeout(run_inline_js, 100);\n    } else if (!root._bokeh_failed_load) {\n      console.log(\"Bokeh: BokehJS failed to load within specified timeout.\");\n      root._bokeh_failed_load = true;\n    } else if (force !== true) {\n      var cell = $(document.getElementById(\"688f2cc7-1df6-48a3-902b-0869956cb0ea\")).parents('.cell').data().cell;\n      cell.output_area.append_execute_result(NB_LOAD_WARNING)\n    }\n\n  }\n\n  if (root._bokeh_is_loading === 0) {\n    console.log(\"Bokeh: BokehJS loaded, going straight to plotting\");\n    run_inline_js();\n  } else {\n    load_libs(js_urls, function() {\n      console.log(\"Bokeh: BokehJS plotting callback run at\", now());\n      run_inline_js();\n    });\n  }\n}(window));"
     },
     "metadata": {},
     "output_type": "display_data"
    },
    {
     "name": "stdout",
     "output_type": "stream",
     "text": [
      "       date      price  bedrooms  bathrooms  sqft_living  sqft_lot  floors  \\\n",
      "0  05/02/14   313000.0         3       1.50         1340      7912     1.5   \n",
      "1  05/02/14  2384000.0         5       2.50         3650      9050     2.0   \n",
      "2  05/02/14   342000.0         3       2.00         1930     11947     1.0   \n",
      "3  05/02/14   420000.0         3       2.25         2000      8030     1.0   \n",
      "4  05/02/14   550000.0         4       2.50         1940     10500     1.0   \n",
      "\n",
      "   waterfront  view  condition  sqft_above  sqft_basement  yr_built  \\\n",
      "0           0     0          3        1340              0      1955   \n",
      "1           0     4          5        3370            280      1921   \n",
      "2           0     0          4        1930              0      1966   \n",
      "3           0     0          4        1000           1000      1963   \n",
      "4           0     0          4        1140            800      1976   \n",
      "\n",
      "   yr_renovated                    street       city  statezip country  \n",
      "0          2005      18810 Densmore Ave N  Shoreline  WA 98133     USA  \n",
      "1             0           709 W Blaine St    Seattle  WA 98119     USA  \n",
      "2             0  26206-26214 143rd Ave SE       Kent  WA 98042     USA  \n",
      "3             0           857 170th Pl NE   Bellevue  WA 98008     USA  \n",
      "4          1992         9105 170th Ave NE    Redmond  WA 98052     USA  \n",
      "<class 'pandas.core.frame.DataFrame'>\n",
      "RangeIndex: 4600 entries, 0 to 4599\n",
      "Data columns (total 18 columns):\n",
      "date             4600 non-null object\n",
      "price            4600 non-null float64\n",
      "bedrooms         4600 non-null int64\n",
      "bathrooms        4600 non-null float64\n",
      "sqft_living      4600 non-null int64\n",
      "sqft_lot         4600 non-null int64\n",
      "floors           4600 non-null float64\n",
      "waterfront       4600 non-null int64\n",
      "view             4600 non-null int64\n",
      "condition        4600 non-null int64\n",
      "sqft_above       4600 non-null int64\n",
      "sqft_basement    4600 non-null int64\n",
      "yr_built         4600 non-null int64\n",
      "yr_renovated     4600 non-null int64\n",
      "street           4600 non-null object\n",
      "city             4600 non-null object\n",
      "statezip         4600 non-null object\n",
      "country          4600 non-null object\n",
      "dtypes: float64(3), int64(10), object(5)\n",
      "memory usage: 647.0+ KB\n"
     ]
    }
   ],
   "source": [
    "# Useful imports\n",
    "import numpy as np\n",
    "import pandas as pd\n",
    "import matplotlib.pyplot as plt\n",
    "import seaborn as sns\n",
    "from bokeh.plotting import figure, output_file, show\n",
    "from bokeh.io import output_notebook\n",
    "output_notebook()\n",
    "%matplotlib inline\n",
    "from sklearn import datasets, linear_model\n",
    "from sklearn.model_selection import train_test_split\n",
    "from matplotlib import pyplot as plt\n",
    "WA = pd.read_csv('WAhousingdata.csv')\n",
    "#https://www.kaggle.com/shree1992/housedata#data.csv\n",
    "#WA.columns = WAdata.feature_names\n",
    "WA.head()\n",
    "#WAdata = sklearn.datasets.load_WA()\n",
    "#print(WAdata.DESCR)\n",
    "print(WA.head())\n",
    "WA.info()"
   ]
  },
  {
   "cell_type": "raw",
   "metadata": {},
   "source": [
    "Check the dataset type"
   ]
  },
  {
   "cell_type": "code",
   "execution_count": 3,
   "metadata": {
    "scrolled": true
   },
   "outputs": [
    {
     "name": "stdout",
     "output_type": "stream",
     "text": [
      "          date         price  bedrooms  bathrooms  sqft_living  sqft_lot  \\\n",
      "0     05/02/14  3.130000e+05         3       1.50         1340      7912   \n",
      "1     05/02/14  2.384000e+06         5       2.50         3650      9050   \n",
      "2     05/02/14  3.420000e+05         3       2.00         1930     11947   \n",
      "3     05/02/14  4.200000e+05         3       2.25         2000      8030   \n",
      "4     05/02/14  5.500000e+05         4       2.50         1940     10500   \n",
      "5     05/02/14  4.900000e+05         2       1.00          880      6380   \n",
      "6     05/02/14  3.350000e+05         2       2.00         1350      2560   \n",
      "7     05/02/14  4.820000e+05         4       2.50         2710     35868   \n",
      "8     05/02/14  4.525000e+05         3       2.50         2430     88426   \n",
      "9     05/02/14  6.400000e+05         4       2.00         1520      6200   \n",
      "10    05/02/14  4.630000e+05         3       1.75         1710      7320   \n",
      "11    05/02/14  1.400000e+06         4       2.50         2920      4000   \n",
      "12    05/02/14  5.885000e+05         3       1.75         2330     14892   \n",
      "13    05/02/14  3.650000e+05         3       1.00         1090      6435   \n",
      "14    05/02/14  1.200000e+06         5       2.75         2910      9480   \n",
      "15    05/02/14  2.425000e+05         3       1.50         1200      9720   \n",
      "16    05/02/14  4.190000e+05         3       1.50         1570      6700   \n",
      "17    05/02/14  3.675000e+05         4       3.00         3110      7231   \n",
      "18    05/02/14  2.579500e+05         3       1.75         1370      5858   \n",
      "19    05/02/14  2.750000e+05         3       1.50         1180     10277   \n",
      "20    05/02/14  7.500000e+05         3       1.75         2240     10578   \n",
      "21    05/02/14  4.350000e+05         4       1.00         1450      8800   \n",
      "22    05/02/14  6.260000e+05         3       2.25         1750      1572   \n",
      "23    05/02/14  6.125000e+05         4       2.50         2730     12261   \n",
      "24    05/02/14  4.950000e+05         4       1.75         1600      6380   \n",
      "25    05/02/14  2.850000e+05         3       2.50         2090     10834   \n",
      "26    05/02/14  6.150000e+05         3       1.75         2360      7291   \n",
      "27    05/02/14  6.980000e+05         4       2.25         2200     11250   \n",
      "28    05/02/14  6.750000e+05         5       2.50         2820     67518   \n",
      "29    05/02/14  7.900000e+05         3       2.50         2600      4750   \n",
      "...        ...           ...       ...        ...          ...       ...   \n",
      "4570  07/02/14  3.180000e+05         2       1.75         1530      3503   \n",
      "4571  07/02/14  5.506071e+05         4       2.00         1660      4800   \n",
      "4572  07/02/14  1.288333e+06         6       4.50         3830      4800   \n",
      "4573  07/02/14  5.840000e+05         3       1.75         1490      1036   \n",
      "4574  07/02/14  0.000000e+00         3       1.00         1520      9030   \n",
      "4575  07/02/14  0.000000e+00         5       6.25         8020     21738   \n",
      "4576  07/02/14  2.450000e+05         3       3.00         2470      7410   \n",
      "4577  07/03/14  2.879198e+05         2       1.00          870      4600   \n",
      "4578  07/05/14  6.725000e+05         4       2.25         2110     12653   \n",
      "4579  07/06/14  4.547900e+05         2       1.75         1990      4000   \n",
      "4580  07/07/14  2.825089e+05         3       1.00         1560      7552   \n",
      "4581  07/07/14  4.732000e+05         3       1.50         1740      4200   \n",
      "4582  07/07/14  4.060625e+05         2       1.00         1290      4650   \n",
      "4583  07/07/14  2.827667e+05         4       2.00         1700      8640   \n",
      "4584  07/07/14  4.864458e+05         3       1.75         1880     10032   \n",
      "4585  07/07/14  4.868950e+05         3       1.00         1890      3330   \n",
      "4586  07/07/14  4.302778e+05         3       2.25         1620      1075   \n",
      "4587  07/08/14  2.296295e+05         2       1.00          770      8149   \n",
      "4588  07/08/14  0.000000e+00         4       2.25         2890     18226   \n",
      "4589  07/08/14  1.828050e+05         3       1.00         1040      8892   \n",
      "4590  07/08/14  3.806806e+05         4       2.50         2620      8331   \n",
      "4591  07/08/14  3.961667e+05         3       1.75         1880      5752   \n",
      "4592  07/08/14  2.529800e+05         4       2.50         2530      8169   \n",
      "4593  07/08/14  2.893733e+05         3       2.50         2538      4600   \n",
      "4594  07/09/14  2.106143e+05         3       2.50         1610      7223   \n",
      "4595  07/09/14  3.081667e+05         3       1.75         1510      6360   \n",
      "4596  07/09/14  5.343333e+05         3       2.50         1460      7573   \n",
      "4597  07/09/14  4.169042e+05         3       2.50         3010      7014   \n",
      "4598  07/10/14  2.034000e+05         4       2.00         2090      6630   \n",
      "4599  07/10/14  2.206000e+05         3       2.50         1490      8102   \n",
      "\n",
      "      floors  waterfront  view  condition  sqft_above  sqft_basement  \\\n",
      "0        1.5           0     0          3        1340              0   \n",
      "1        2.0           0     4          5        3370            280   \n",
      "2        1.0           0     0          4        1930              0   \n",
      "3        1.0           0     0          4        1000           1000   \n",
      "4        1.0           0     0          4        1140            800   \n",
      "5        1.0           0     0          3         880              0   \n",
      "6        1.0           0     0          3        1350              0   \n",
      "7        2.0           0     0          3        2710              0   \n",
      "8        1.0           0     0          4        1570            860   \n",
      "9        1.5           0     0          3        1520              0   \n",
      "10       1.0           0     0          3        1710              0   \n",
      "11       1.5           0     0          5        1910           1010   \n",
      "12       1.0           0     0          3        1970            360   \n",
      "13       1.0           0     0          4        1090              0   \n",
      "14       1.5           0     0          3        2910              0   \n",
      "15       1.0           0     0          4        1200              0   \n",
      "16       1.0           0     0          4        1570              0   \n",
      "17       2.0           0     0          3        3110              0   \n",
      "18       1.0           0     0          3        1370              0   \n",
      "19       1.0           0     0          3        1180              0   \n",
      "20       2.0           0     0          5        1550            690   \n",
      "21       1.0           0     0          4        1450              0   \n",
      "22       2.5           0     0          3        1470            280   \n",
      "23       2.0           0     0          3        2730              0   \n",
      "24       1.0           0     0          3        1130            470   \n",
      "25       1.0           0     0          4        1360            730   \n",
      "26       1.0           0     0          4        1360           1000   \n",
      "27       1.5           0     0          5        1300            900   \n",
      "28       2.0           0     0          3        2820              0   \n",
      "29       1.0           0     0          4        1700            900   \n",
      "...      ...         ...   ...        ...         ...            ...   \n",
      "4570     1.0           0     1          4         830            700   \n",
      "4571     1.5           0     0          3        1660              0   \n",
      "4572     3.0           0     0          3        3050            780   \n",
      "4573     2.0           0     0          3        1090            400   \n",
      "4574     1.0           0     0          3        1520              0   \n",
      "4575     2.0           0     0          3        8020              0   \n",
      "4576     2.0           0     0          5        1860            610   \n",
      "4577     1.0           0     0          4         870              0   \n",
      "4578     2.0           0     0          4        2110              0   \n",
      "4579     1.0           0     0          5        1090            900   \n",
      "4580     1.0           0     0          4         910            650   \n",
      "4581     1.5           0     0          4        1640            100   \n",
      "4582     1.0           0     0          4        1290              0   \n",
      "4583     1.0           0     0          3         850            850   \n",
      "4584     1.0           0     0          4        1880              0   \n",
      "4585     1.5           0     0          4        1390            500   \n",
      "4586     3.0           0     0          3        1540             80   \n",
      "4587     1.0           0     0          3         770              0   \n",
      "4588     3.0           1     4          3        2890              0   \n",
      "4589     1.0           0     0          4         800            240   \n",
      "4590     2.0           0     0          3        2620              0   \n",
      "4591     1.0           0     0          4         940            940   \n",
      "4592     2.0           0     0          3        2530              0   \n",
      "4593     2.0           0     0          3        2538              0   \n",
      "4594     2.0           0     0          3        1610              0   \n",
      "4595     1.0           0     0          4        1510              0   \n",
      "4596     2.0           0     0          3        1460              0   \n",
      "4597     2.0           0     0          3        3010              0   \n",
      "4598     1.0           0     0          3        1070           1020   \n",
      "4599     2.0           0     0          4        1490              0   \n",
      "\n",
      "      yr_built  yr_renovated                         street              city  \\\n",
      "0         1955          2005           18810 Densmore Ave N         Shoreline   \n",
      "1         1921             0                709 W Blaine St           Seattle   \n",
      "2         1966             0       26206-26214 143rd Ave SE              Kent   \n",
      "3         1963             0                857 170th Pl NE          Bellevue   \n",
      "4         1976          1992              9105 170th Ave NE           Redmond   \n",
      "5         1938          1994                 522 NE 88th St           Seattle   \n",
      "6         1976             0              2616 174th Ave NE           Redmond   \n",
      "7         1989             0              23762 SE 253rd Pl      Maple Valley   \n",
      "8         1985             0        46611-46625 SE 129th St        North Bend   \n",
      "9         1945          2010               6811 55th Ave NE           Seattle   \n",
      "10        1948          1994             Burke-Gilman Trail  Lake Forest Park   \n",
      "11        1909          1988          3838-4098 44th Ave NE           Seattle   \n",
      "12        1980             0               1833 220th Pl NE         Sammamish   \n",
      "13        1955          2009            2504 SW Portland Ct           Seattle   \n",
      "14        1939          1969               3534 46th Ave NE           Seattle   \n",
      "15        1965             0              14034 SE 201st St              Kent   \n",
      "16        1956             0                15424 SE 9th St          Bellevue   \n",
      "17        1997             0              11224 SE 306th Pl            Auburn   \n",
      "18        1987          2000                1605 S 245th Pl        Des Moines   \n",
      "19        1983          2009             12425 415th Ave SE        North Bend   \n",
      "20        1923             0                3225 NE 92nd St           Seattle   \n",
      "21        1954          1979              3922 154th Ave SE          Bellevue   \n",
      "22        2005             0            3140 Franklin Ave E           Seattle   \n",
      "23        1991             0              10212 NE 156th Pl           Bothell   \n",
      "24        1959          1989               2021 NE 100th St           Seattle   \n",
      "25        1987             0        27736 23rd Avenue South       Federal Way   \n",
      "26        1948             0          8436-8438 41st Ave SW           Seattle   \n",
      "27        1920             0                    1036 4th St          Kirkland   \n",
      "28        1979          2014              23525 SE 32nd Way          Issaquah   \n",
      "29        1951          1999                3314 NW 75th St           Seattle   \n",
      "...        ...           ...                            ...               ...   \n",
      "4570      1916             0                1922 11th Ave W           Seattle   \n",
      "4571      1922          2008       4007 Woodland Park Ave N           Seattle   \n",
      "4572      1919          2004                 2425 3rd Ave W           Seattle   \n",
      "4573      2008             0               4304B 36th Ave W           Seattle   \n",
      "4574      1956          2001               2533 155th Pl SE          Bellevue   \n",
      "4575      2001             0                 2 Crescent Key          Bellevue   \n",
      "4576      1977             0               8833 Earl Ave NW           Seattle   \n",
      "4577      1942          1982               8506 37th Ave SW           Seattle   \n",
      "4578      1972             0               7490 85th Ave SE     Mercer Island   \n",
      "4579      1952          1998               8215 Stone Ave N           Seattle   \n",
      "4580      1948             0                228 NE 174th St         Shoreline   \n",
      "4581      1920             0                6714 4th Ave NW           Seattle   \n",
      "4582      1906          1990                 312 NE 81st St           Seattle   \n",
      "4583      1955          2010              3706 140th Ave SE          Bellevue   \n",
      "4584      1984             0               13345 SE 55th Pl          Bellevue   \n",
      "4585      1901             0              4324 Dayton Ave N           Seattle   \n",
      "4586      2009             0                 972 4th Ave NE          Issaquah   \n",
      "4587      1948          1994              16040 28th Ave NE         Shoreline   \n",
      "4588      1984             0  3227-3399 Mountain View Ave N            Renton   \n",
      "4589      1958          1972               1028 SW 307th St       Federal Way   \n",
      "4590      1991             0              13602 SE 186th Pl            Renton   \n",
      "4591      1945             0             3529 SW Webster St           Seattle   \n",
      "4592      1993             0                37654 18th Pl S       Federal Way   \n",
      "4593      2013          1923          5703 Charlotte Ave SE            Auburn   \n",
      "4594      1994             0             26306 127th Ave SE              Kent   \n",
      "4595      1954          1979                 501 N 143rd St           Seattle   \n",
      "4596      1983          2009               14855 SE 10th Pl          Bellevue   \n",
      "4597      2009             0               759 Ilwaco Pl NE            Renton   \n",
      "4598      1974             0              5148 S Creston St           Seattle   \n",
      "4599      1990             0              18717 SE 258th St         Covington   \n",
      "\n",
      "      statezip country  \n",
      "0     WA 98133     USA  \n",
      "1     WA 98119     USA  \n",
      "2     WA 98042     USA  \n",
      "3     WA 98008     USA  \n",
      "4     WA 98052     USA  \n",
      "5     WA 98115     USA  \n",
      "6     WA 98052     USA  \n",
      "7     WA 98038     USA  \n",
      "8     WA 98045     USA  \n",
      "9     WA 98115     USA  \n",
      "10    WA 98155     USA  \n",
      "11    WA 98105     USA  \n",
      "12    WA 98074     USA  \n",
      "13    WA 98106     USA  \n",
      "14    WA 98105     USA  \n",
      "15    WA 98042     USA  \n",
      "16    WA 98007     USA  \n",
      "17    WA 98092     USA  \n",
      "18    WA 98198     USA  \n",
      "19    WA 98045     USA  \n",
      "20    WA 98115     USA  \n",
      "21    WA 98006     USA  \n",
      "22    WA 98102     USA  \n",
      "23    WA 98011     USA  \n",
      "24    WA 98125     USA  \n",
      "25    WA 98003     USA  \n",
      "26    WA 98136     USA  \n",
      "27    WA 98033     USA  \n",
      "28    WA 98029     USA  \n",
      "29    WA 98117     USA  \n",
      "...        ...     ...  \n",
      "4570  WA 98119     USA  \n",
      "4571  WA 98103     USA  \n",
      "4572  WA 98119     USA  \n",
      "4573  WA 98199     USA  \n",
      "4574  WA 98007     USA  \n",
      "4575  WA 98006     USA  \n",
      "4576  WA 98117     USA  \n",
      "4577  WA 98126     USA  \n",
      "4578  WA 98040     USA  \n",
      "4579  WA 98103     USA  \n",
      "4580  WA 98155     USA  \n",
      "4581  WA 98117     USA  \n",
      "4582  WA 98115     USA  \n",
      "4583  WA 98006     USA  \n",
      "4584  WA 98006     USA  \n",
      "4585  WA 98103     USA  \n",
      "4586  WA 98029     USA  \n",
      "4587  WA 98155     USA  \n",
      "4588  WA 98056     USA  \n",
      "4589  WA 98023     USA  \n",
      "4590  WA 98058     USA  \n",
      "4591  WA 98126     USA  \n",
      "4592  WA 98003     USA  \n",
      "4593  WA 98092     USA  \n",
      "4594  WA 98030     USA  \n",
      "4595  WA 98133     USA  \n",
      "4596  WA 98007     USA  \n",
      "4597  WA 98059     USA  \n",
      "4598  WA 98178     USA  \n",
      "4599  WA 98042     USA  \n",
      "\n",
      "[4600 rows x 18 columns]\n",
      "Washington housing dataset has 4600 data points with 18 variables each.\n"
     ]
    },
    {
     "data": {
      "text/plain": [
       "(4600, 18)"
      ]
     },
     "execution_count": 3,
     "metadata": {},
     "output_type": "execute_result"
    }
   ],
   "source": [
    "WA = pd.read_csv('WAhousingdata.csv')\n",
    "WA.head()\n",
    "print(WA)# Load the WA Housing dataset\n",
    "price = WA['price']\n",
    "features = WA.drop('price', axis = 1)\n",
    "print(\"Washington housing dataset has {} data points with {} variables each.\".format(*WA.shape)) \n",
    "WA.shape"
   ]
  },
  {
   "cell_type": "raw",
   "metadata": {},
   "source": [
    "Visulization Dataset"
   ]
  },
  {
   "cell_type": "code",
   "execution_count": 4,
   "metadata": {},
   "outputs": [
    {
     "data": {
      "text/plain": [
       "<matplotlib.axes._subplots.AxesSubplot at 0x1a1606e748>"
      ]
     },
     "execution_count": 4,
     "metadata": {},
     "output_type": "execute_result"
    },
    {
     "data": {
      "image/png": "[encoded data removed]",
      "text/plain": [
       "<Figure size 720x504 with 2 Axes>"
      ]
     },
     "metadata": {
      "needs_background": "light"
     },
     "output_type": "display_data"
    }
   ],
   "source": [
    "WA = pd.read_csv('WAhousingdata.csv')\n",
    "WA.plot(kind=\"scatter\", x=\"condition\", y=\"yr_built\", alpha=0.4, figsize=(10,7),\n",
    "    c=\"price\", cmap=plt.get_cmap(\"jet\"), colorbar=True,\n",
    "    sharex=False)\n",
    "#Color code from the most expensive to the cheapest area\n",
    "#Create a scatter plot with house of year built and house condition to visualize the data"
   ]
  },
  {
   "cell_type": "raw",
   "metadata": {},
   "source": [
    "Data format processing"
   ]
  },
  {
   "cell_type": "code",
   "execution_count": 5,
   "metadata": {},
   "outputs": [
    {
     "data": {
      "text/html": [
       "<div>\n",
       "<style scoped>\n",
       "    .dataframe tbody tr th:only-of-type {\n",
       "        vertical-align: middle;\n",
       "    }\n",
       "\n",
       "    .dataframe tbody tr th {\n",
       "        vertical-align: top;\n",
       "    }\n",
       "\n",
       "    .dataframe thead th {\n",
       "        text-align: right;\n",
       "    }\n",
       "</style>\n",
       "<table border=\"1\" class=\"dataframe\">\n",
       "  <thead>\n",
       "    <tr style=\"text-align: right;\">\n",
       "      <th></th>\n",
       "      <th>price</th>\n",
       "      <th>bedrooms</th>\n",
       "      <th>bathrooms</th>\n",
       "      <th>sqft_living</th>\n",
       "      <th>sqft_lot</th>\n",
       "      <th>floors</th>\n",
       "      <th>waterfront</th>\n",
       "      <th>view</th>\n",
       "      <th>condition</th>\n",
       "      <th>sqft_above</th>\n",
       "      <th>sqft_basement</th>\n",
       "      <th>yr_built</th>\n",
       "      <th>yr_renovated</th>\n",
       "    </tr>\n",
       "  </thead>\n",
       "  <tbody>\n",
       "    <tr>\n",
       "      <th>count</th>\n",
       "      <td>4.551000e+03</td>\n",
       "      <td>4551.000000</td>\n",
       "      <td>4551.000000</td>\n",
       "      <td>4551.000000</td>\n",
       "      <td>4.551000e+03</td>\n",
       "      <td>4551.000000</td>\n",
       "      <td>4551.000000</td>\n",
       "      <td>4551.000000</td>\n",
       "      <td>4551.000000</td>\n",
       "      <td>4551.000000</td>\n",
       "      <td>4551.000000</td>\n",
       "      <td>4551.000000</td>\n",
       "      <td>4551.000000</td>\n",
       "    </tr>\n",
       "    <tr>\n",
       "      <th>mean</th>\n",
       "      <td>5.579059e+05</td>\n",
       "      <td>3.394639</td>\n",
       "      <td>2.155021</td>\n",
       "      <td>2132.372226</td>\n",
       "      <td>1.483528e+04</td>\n",
       "      <td>1.512195</td>\n",
       "      <td>0.006592</td>\n",
       "      <td>0.234674</td>\n",
       "      <td>3.449352</td>\n",
       "      <td>1822.221710</td>\n",
       "      <td>310.150516</td>\n",
       "      <td>1970.795649</td>\n",
       "      <td>808.564052</td>\n",
       "    </tr>\n",
       "    <tr>\n",
       "      <th>std</th>\n",
       "      <td>5.639299e+05</td>\n",
       "      <td>0.904595</td>\n",
       "      <td>0.776351</td>\n",
       "      <td>955.949708</td>\n",
       "      <td>3.596408e+04</td>\n",
       "      <td>0.538531</td>\n",
       "      <td>0.080932</td>\n",
       "      <td>0.765373</td>\n",
       "      <td>0.675160</td>\n",
       "      <td>854.452888</td>\n",
       "      <td>461.987629</td>\n",
       "      <td>29.760073</td>\n",
       "      <td>979.421487</td>\n",
       "    </tr>\n",
       "    <tr>\n",
       "      <th>min</th>\n",
       "      <td>7.800000e+03</td>\n",
       "      <td>0.000000</td>\n",
       "      <td>0.000000</td>\n",
       "      <td>370.000000</td>\n",
       "      <td>6.380000e+02</td>\n",
       "      <td>1.000000</td>\n",
       "      <td>0.000000</td>\n",
       "      <td>0.000000</td>\n",
       "      <td>1.000000</td>\n",
       "      <td>370.000000</td>\n",
       "      <td>0.000000</td>\n",
       "      <td>1900.000000</td>\n",
       "      <td>0.000000</td>\n",
       "    </tr>\n",
       "    <tr>\n",
       "      <th>25%</th>\n",
       "      <td>3.262643e+05</td>\n",
       "      <td>3.000000</td>\n",
       "      <td>1.750000</td>\n",
       "      <td>1460.000000</td>\n",
       "      <td>5.000000e+03</td>\n",
       "      <td>1.000000</td>\n",
       "      <td>0.000000</td>\n",
       "      <td>0.000000</td>\n",
       "      <td>3.000000</td>\n",
       "      <td>1190.000000</td>\n",
       "      <td>0.000000</td>\n",
       "      <td>1951.000000</td>\n",
       "      <td>0.000000</td>\n",
       "    </tr>\n",
       "    <tr>\n",
       "      <th>50%</th>\n",
       "      <td>4.650000e+05</td>\n",
       "      <td>3.000000</td>\n",
       "      <td>2.250000</td>\n",
       "      <td>1970.000000</td>\n",
       "      <td>7.680000e+03</td>\n",
       "      <td>1.500000</td>\n",
       "      <td>0.000000</td>\n",
       "      <td>0.000000</td>\n",
       "      <td>3.000000</td>\n",
       "      <td>1590.000000</td>\n",
       "      <td>0.000000</td>\n",
       "      <td>1976.000000</td>\n",
       "      <td>0.000000</td>\n",
       "    </tr>\n",
       "    <tr>\n",
       "      <th>75%</th>\n",
       "      <td>6.575000e+05</td>\n",
       "      <td>4.000000</td>\n",
       "      <td>2.500000</td>\n",
       "      <td>2610.000000</td>\n",
       "      <td>1.097800e+04</td>\n",
       "      <td>2.000000</td>\n",
       "      <td>0.000000</td>\n",
       "      <td>0.000000</td>\n",
       "      <td>4.000000</td>\n",
       "      <td>2300.000000</td>\n",
       "      <td>600.000000</td>\n",
       "      <td>1997.000000</td>\n",
       "      <td>1999.000000</td>\n",
       "    </tr>\n",
       "    <tr>\n",
       "      <th>max</th>\n",
       "      <td>2.659000e+07</td>\n",
       "      <td>9.000000</td>\n",
       "      <td>8.000000</td>\n",
       "      <td>13540.000000</td>\n",
       "      <td>1.074218e+06</td>\n",
       "      <td>3.500000</td>\n",
       "      <td>1.000000</td>\n",
       "      <td>4.000000</td>\n",
       "      <td>5.000000</td>\n",
       "      <td>9410.000000</td>\n",
       "      <td>4820.000000</td>\n",
       "      <td>2014.000000</td>\n",
       "      <td>2014.000000</td>\n",
       "    </tr>\n",
       "  </tbody>\n",
       "</table>\n",
       "</div>"
      ],
      "text/plain": [
       "              price     bedrooms    bathrooms   sqft_living      sqft_lot  \\\n",
       "count  4.551000e+03  4551.000000  4551.000000   4551.000000  4.551000e+03   \n",
       "mean   5.579059e+05     3.394639     2.155021   2132.372226  1.483528e+04   \n",
       "std    5.639299e+05     0.904595     0.776351    955.949708  3.596408e+04   \n",
       "min    7.800000e+03     0.000000     0.000000    370.000000  6.380000e+02   \n",
       "25%    3.262643e+05     3.000000     1.750000   1460.000000  5.000000e+03   \n",
       "50%    4.650000e+05     3.000000     2.250000   1970.000000  7.680000e+03   \n",
       "75%    6.575000e+05     4.000000     2.500000   2610.000000  1.097800e+04   \n",
       "max    2.659000e+07     9.000000     8.000000  13540.000000  1.074218e+06   \n",
       "\n",
       "            floors   waterfront         view    condition   sqft_above  \\\n",
       "count  4551.000000  4551.000000  4551.000000  4551.000000  4551.000000   \n",
       "mean      1.512195     0.006592     0.234674     3.449352  1822.221710   \n",
       "std       0.538531     0.080932     0.765373     0.675160   854.452888   \n",
       "min       1.000000     0.000000     0.000000     1.000000   370.000000   \n",
       "25%       1.000000     0.000000     0.000000     3.000000  1190.000000   \n",
       "50%       1.500000     0.000000     0.000000     3.000000  1590.000000   \n",
       "75%       2.000000     0.000000     0.000000     4.000000  2300.000000   \n",
       "max       3.500000     1.000000     4.000000     5.000000  9410.000000   \n",
       "\n",
       "       sqft_basement     yr_built  yr_renovated  \n",
       "count    4551.000000  4551.000000   4551.000000  \n",
       "mean      310.150516  1970.795649    808.564052  \n",
       "std       461.987629    29.760073    979.421487  \n",
       "min         0.000000  1900.000000      0.000000  \n",
       "25%         0.000000  1951.000000      0.000000  \n",
       "50%         0.000000  1976.000000      0.000000  \n",
       "75%       600.000000  1997.000000   1999.000000  \n",
       "max      4820.000000  2014.000000   2014.000000  "
      ]
     },
     "execution_count": 5,
     "metadata": {},
     "output_type": "execute_result"
    }
   ],
   "source": [
    "indexNames = WA[WA['price'] == 0].index\n",
    "WA.drop(indexNames, inplace = True)\n",
    "WA.describe()\n",
    "#Describe the Washinton house datasetss in count, mean, min and max pices rows.\n",
    "#The highest price would be $26,590,000, the lowest price would be $7,8000.\n",
    "#The std shows the standard deviation in the 25%, 50% and 75% rows show the corresponding percentiles"
   ]
  },
  {
   "cell_type": "raw",
   "metadata": {},
   "source": [
    "Check data type and Skewness"
   ]
  },
  {
   "cell_type": "code",
   "execution_count": 6,
   "metadata": {},
   "outputs": [
    {
     "name": "stdout",
     "output_type": "stream",
     "text": [
      "<class 'pandas.core.frame.DataFrame'>\n",
      "Int64Index: 4551 entries, 0 to 4599\n",
      "Data columns (total 18 columns):\n",
      "date             4551 non-null object\n",
      "price            4551 non-null float64\n",
      "bedrooms         4551 non-null int64\n",
      "bathrooms        4551 non-null float64\n",
      "sqft_living      4551 non-null int64\n",
      "sqft_lot         4551 non-null int64\n",
      "floors           4551 non-null float64\n",
      "waterfront       4551 non-null int64\n",
      "view             4551 non-null int64\n",
      "condition        4551 non-null int64\n",
      "sqft_above       4551 non-null int64\n",
      "sqft_basement    4551 non-null int64\n",
      "yr_built         4551 non-null int64\n",
      "yr_renovated     4551 non-null int64\n",
      "street           4551 non-null object\n",
      "city             4551 non-null object\n",
      "statezip         4551 non-null object\n",
      "country          4551 non-null object\n",
      "dtypes: float64(3), int64(10), object(5)\n",
      "memory usage: 675.5+ KB\n",
      "skew:  25.02381726204781\n"
     ]
    },
    {
     "name": "stderr",
     "output_type": "stream",
     "text": [
      "/Users/bella_cc/anaconda3/lib/python3.7/site-packages/scipy/stats/stats.py:1713: FutureWarning: Using a non-tuple sequence for multidimensional indexing is deprecated; use `arr[tuple(seq)]` instead of `arr[seq]`. In the future this will be interpreted as an array index, `arr[np.array(seq)]`, which will result either in an error or a different result.\n",
      "  return np.add.reduce(sorted[indexer] * weights, axis=axis) / sumval\n"
     ]
    },
    {
     "data": {
      "image/png": "[encoded data removed]",
      "text/plain": [
       "<Figure size 432x288 with 1 Axes>"
      ]
     },
     "metadata": {
      "needs_background": "light"
     },
     "output_type": "display_data"
    },
    {
     "data": {
      "text/plain": [
       "<Figure size 360x360 with 0 Axes>"
      ]
     },
     "metadata": {},
     "output_type": "display_data"
    }
   ],
   "source": [
    "WA.info()\n",
    "WA.isnull().sum()\n",
    "sns.distplot(WA['price'])\n",
    "plt.figure(figsize = (5,5))\n",
    "print(\"skew: \",WA.price.skew())"
   ]
  },
  {
   "cell_type": "raw",
   "metadata": {},
   "source": [
    "Histogram graphs of numeric variables"
   ]
  },
  {
   "cell_type": "code",
   "execution_count": 7,
   "metadata": {
    "scrolled": true
   },
   "outputs": [
    {
     "data": {
      "image/png": "[encoded data removed]",
      "text/plain": [
       "<Figure size 1440x1080 with 16 Axes>"
      ]
     },
     "metadata": {
      "needs_background": "light"
     },
     "output_type": "display_data"
    }
   ],
   "source": [
    "%matplotlib inline\n",
    "import matplotlib.pyplot as plt\n",
    "WA.hist(bins=50, figsize=(20,15))\n",
    "plt.savefig(\"attribute_histogram_plots\")\n",
    "plt.show()"
   ]
  },
  {
   "cell_type": "raw",
   "metadata": {},
   "source": [
    "Detect correlation between numerical features and variable Price"
   ]
  },
  {
   "cell_type": "code",
   "execution_count": 8,
   "metadata": {
    "scrolled": true
   },
   "outputs": [
    {
     "data": {
      "image/png": "[encoded data removed]",
      "text/plain": [
       "<Figure size 360x360 with 1 Axes>"
      ]
     },
     "metadata": {
      "needs_background": "light"
     },
     "output_type": "display_data"
    }
   ],
   "source": [
    "#* Generate a scatter plot of sqft_living (y-axis) and price (x-axis)\n",
    "import matplotlib.pyplot as plt\n",
    "import numpy as np\n",
    "import seaborn as sns\n",
    "scatter_plot= plt.figure(figsize=(5,5))\n",
    "axis = scatter_plot.add_subplot(1,1,1)\n",
    "axis.set_title('Scatterplot of price vs sqft_living')\n",
    "axis.scatter(WA['sqft_living'],WA['price'])\n",
    "axis.set_xlabel('price')\n",
    "axis.set_ylabel('sqft_living')\n",
    "plt.show()"
   ]
  },
  {
   "cell_type": "code",
   "execution_count": 9,
   "metadata": {},
   "outputs": [
    {
     "name": "stderr",
     "output_type": "stream",
     "text": [
      "/Users/bella_cc/anaconda3/lib/python3.7/site-packages/matplotlib/figure.py:457: UserWarning: matplotlib is currently using a non-GUI backend, so cannot show the figure\n",
      "  \"matplotlib is currently using a non-GUI backend, \"\n",
      "/Users/bella_cc/anaconda3/lib/python3.7/site-packages/scipy/stats/stats.py:1713: FutureWarning: Using a non-tuple sequence for multidimensional indexing is deprecated; use `arr[tuple(seq)]` instead of `arr[seq]`. In the future this will be interpreted as an array index, `arr[np.array(seq)]`, which will result either in an error or a different result.\n",
      "  return np.add.reduce(sorted[indexer] * weights, axis=axis) / sumval\n"
     ]
    },
    {
     "data": {
      "image/png": "[encoded data removed]",
      "text/plain": [
       "<Figure size 360x360 with 1 Axes>"
      ]
     },
     "metadata": {
      "needs_background": "light"
     },
     "output_type": "display_data"
    },
    {
     "data": {
      "image/png": "[encoded data removed]",
      "text/plain": [
       "<Figure size 360x360 with 1 Axes>"
      ]
     },
     "metadata": {
      "needs_background": "light"
     },
     "output_type": "display_data"
    }
   ],
   "source": [
    "scatter_plot= plt.figure(figsize=(5,5))\n",
    "axis = scatter_plot.add_subplot(1,1,1)\n",
    "axis.scatter(WA['bedrooms'],WA['price'])\n",
    "axis.set_title('Scatterplot of price vs condition')\n",
    "axis.set_xlabel('bedrooms')\n",
    "axis.set_ylabel('price')\n",
    "scatter_plot.show()\n",
    "sns.lmplot(x='bedrooms', y='price', data=WA)\n",
    "plt.show()"
   ]
  },
  {
   "cell_type": "code",
   "execution_count": 10,
   "metadata": {},
   "outputs": [
    {
     "name": "stderr",
     "output_type": "stream",
     "text": [
      "/Users/bella_cc/anaconda3/lib/python3.7/site-packages/scipy/stats/stats.py:1713: FutureWarning: Using a non-tuple sequence for multidimensional indexing is deprecated; use `arr[tuple(seq)]` instead of `arr[seq]`. In the future this will be interpreted as an array index, `arr[np.array(seq)]`, which will result either in an error or a different result.\n",
      "  return np.add.reduce(sorted[indexer] * weights, axis=axis) / sumval\n"
     ]
    },
    {
     "data": {
      "text/plain": [
       "<Figure size 432x288 with 0 Axes>"
      ]
     },
     "metadata": {},
     "output_type": "display_data"
    },
    {
     "data": {
      "image/png": "[encoded data removed]",
      "text/plain": [
       "<Figure size 360x360 with 1 Axes>"
      ]
     },
     "metadata": {
      "needs_background": "light"
     },
     "output_type": "display_data"
    }
   ],
   "source": [
    "# WA.plot(kind=\"scatter\", x=\"condition\", y=\"price\", alpha=0.5)\n",
    "plt.savefig('scatter.png')\n",
    "sns.lmplot(x='price', y='condition', data=WA)\n",
    "plt.show()"
   ]
  },
  {
   "cell_type": "code",
   "execution_count": 11,
   "metadata": {},
   "outputs": [
    {
     "data": {
      "text/plain": [
       "price            1.000000\n",
       "sqft_living      0.445494\n",
       "sqft_above       0.380661\n",
       "bathrooms        0.341126\n",
       "view             0.242587\n",
       "sqft_basement    0.217782\n",
       "bedrooms         0.210228\n",
       "floors           0.152758\n",
       "waterfront       0.150083\n",
       "sqft_lot         0.051347\n",
       "condition        0.038892\n",
       "yr_built         0.021757\n",
       "yr_renovated    -0.029034\n",
       "Name: price, dtype: float64"
      ]
     },
     "execution_count": 11,
     "metadata": {},
     "output_type": "execute_result"
    }
   ],
   "source": [
    "corr_matrix = WA.corr()\n",
    "#coefficients close to zero indicate that there is no linear correlation.\n",
    "corr_matrix[\"price\"].sort_values(ascending=False)"
   ]
  },
  {
   "cell_type": "code",
   "execution_count": 12,
   "metadata": {},
   "outputs": [
    {
     "name": "stderr",
     "output_type": "stream",
     "text": [
      "/Users/bella_cc/anaconda3/lib/python3.7/site-packages/scipy/stats/stats.py:1713: FutureWarning: Using a non-tuple sequence for multidimensional indexing is deprecated; use `arr[tuple(seq)]` instead of `arr[seq]`. In the future this will be interpreted as an array index, `arr[np.array(seq)]`, which will result either in an error or a different result.\n",
      "  return np.add.reduce(sorted[indexer] * weights, axis=axis) / sumval\n"
     ]
    },
    {
     "data": {
      "image/png": "[encoded data removed]",
      "text/plain": [
       "<Figure size 360x360 with 1 Axes>"
      ]
     },
     "metadata": {
      "needs_background": "light"
     },
     "output_type": "display_data"
    },
    {
     "data": {
      "text/plain": [
       "price            1.000000\n",
       "sqft_living      0.818099\n",
       "sqft_above       0.380661\n",
       "bathrooms        0.341126\n",
       "view             0.242587\n",
       "sqft_basement    0.217782\n",
       "bedrooms         0.210228\n",
       "floors           0.152758\n",
       "waterfront       0.150083\n",
       "sqft_lot         0.051347\n",
       "condition        0.038892\n",
       "yr_built         0.021757\n",
       "yr_renovated    -0.029034\n",
       "Name: price, dtype: float64"
      ]
     },
     "execution_count": 12,
     "metadata": {},
     "output_type": "execute_result"
    }
   ],
   "source": [
    "#* Generate the plots using matplotlib and seaborn\n",
    "sns.lmplot(x='price', y='sqft_living', data=WA)\n",
    "plt.show()\n",
    "WA['sqft_living'] = WA['price']/WA['sqft_living']\n",
    "corr_matrix = WA.corr()\n",
    "corr_matrix[\"price\"].sort_values(ascending=False)\n",
    "#the correlation between sqft of living variable and the house price"
   ]
  },
  {
   "cell_type": "raw",
   "metadata": {},
   "source": [
    "Building a house price Linear Regression forecasting model "
   ]
  },
  {
   "cell_type": "raw",
   "metadata": {},
   "source": [
    "Create training sets and test sets"
   ]
  },
  {
   "cell_type": "code",
   "execution_count": 13,
   "metadata": {},
   "outputs": [
    {
     "name": "stdout",
     "output_type": "stream",
     "text": [
      "(4600, 17)\n",
      "(3680, 17)\n",
      "(920, 17)\n"
     ]
    }
   ],
   "source": [
    "from sklearn.model_selection import train_test_split\n",
    "#import train_test_split\n",
    "# Split the data into train and test set\n",
    "X_train, X_test, y_train, y_test = train_test_split(features,price,test_size=0.2,random_state=10)\n",
    "print(features.shape)\n",
    "print(X_train.shape)\n",
    "print(X_test.shape)"
   ]
  },
  {
   "cell_type": "code",
   "execution_count": 14,
   "metadata": {},
   "outputs": [
    {
     "name": "stdout",
     "output_type": "stream",
     "text": [
      "(4551, 10) (4551,)\n"
     ]
    }
   ],
   "source": [
    "#Constructing feature vectors and target vectors\n",
    "features = ['sqft_living',\n",
    "            'sqft_lot',\n",
    "            'view',\n",
    "            'bathrooms',\n",
    "            'condition',\n",
    "            'bedrooms',\n",
    "            'sqft_above',\n",
    "            'sqft_basement',\n",
    "            \"yr_built\",\n",
    "            \"yr_renovated\"\n",
    "           ]\n",
    "X = WA[features]\n",
    "Y = np.log(WA['price'])\n",
    "print(X.shape,Y.shape)"
   ]
  },
  {
   "cell_type": "code",
   "execution_count": 17,
   "metadata": {},
   "outputs": [
    {
     "name": "stdout",
     "output_type": "stream",
     "text": [
      "2208118.5983824735 [ 2.43043187e+05  5.39379742e+04  1.27628994e+03  3.55867440e-01\n",
      "  4.52245713e+03 -1.39486978e+03  8.99716995e+04  6.10186529e+00]\n"
     ]
    }
   ],
   "source": [
    "#Feature preprocessing\n",
    "X = WA[['bathrooms', 'bedrooms', 'sqft_living', 'sqft_lot', 'condition', 'yr_built', \n",
    "         'view', 'yr_renovated']]\n",
    "Y = WA['price']\n",
    "#Train and Build Linear Regression Model\n",
    "from sklearn.cross_validation import train_test_split\n",
    "from sklearn.linear_model import LinearRegression\n",
    "from sklearn import linear_model\n",
    "X_train, X_test, Y_train, Y_test = train_test_split(X, Y, test_size=0.3, random_state=0)\n",
    "regressor = LinearRegression()\n",
    "regressor.fit(X_train, Y_train)\n",
    "lm = linear_model.LinearRegression()\n",
    "model = lm.fit(X_train,Y_train)\n",
    "print(model.intercept_,model.coef_)"
   ]
  },
  {
   "cell_type": "raw",
   "metadata": {},
   "source": [
    "Evaluation model"
   ]
  },
  {
   "cell_type": "code",
   "execution_count": 18,
   "metadata": {},
   "outputs": [
    {
     "name": "stdout",
     "output_type": "stream",
     "text": [
      "Linear Regression R squared\": 0.5987\n"
     ]
    }
   ],
   "source": [
    "#A higher R-square value means a better fit\n",
    "Y_predict = regressor.predict(X_test)#Linear Regression R squared\n",
    "print('Linear Regression R squared\": %.4f' % regressor.score(X_test, Y_test))"
   ]
  },
  {
   "cell_type": "code",
   "execution_count": 19,
   "metadata": {},
   "outputs": [
    {
     "name": "stdout",
     "output_type": "stream",
     "text": [
      "Linear Regression RMSE: 225312.4584\n"
     ]
    }
   ],
   "source": [
    "import numpy as np\n",
    "#predict in Linear Regression MAE \n",
    "from sklearn.metrics import mean_squared_error\n",
    "lin_mse = mean_squared_error(Y_predict, Y_test)\n",
    "lin_rmse = np.sqrt(lin_mse)\n",
    "print('Linear Regression RMSE: %.4f' % lin_rmse)\n",
    "#the value of every house in the test set within $616071 of the real price"
   ]
  },
  {
   "cell_type": "code",
   "execution_count": null,
   "metadata": {},
   "outputs": [],
   "source": []
  }
 ],
 "metadata": {
  "kernelspec": {
   "display_name": "Python 3",
   "language": "python",
   "name": "python3"
  },
  "language_info": {
   "codemirror_mode": {
    "name": "ipython",
    "version": 3
   },
   "file_extension": ".py",
   "mimetype": "text/x-python",
   "name": "python",
   "nbconvert_exporter": "python",
   "pygments_lexer": "ipython3",
   "version": "3.7.0"
  }
 },
 "nbformat": 4,
 "nbformat_minor": 2
}
