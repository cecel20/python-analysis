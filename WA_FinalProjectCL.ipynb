Housing price in Washington state
A data set for the sale price of houses and the basic information of the house in Washington, USA.
Based on the data analysis performace, preditc the factors majorly affected the trend of house price.
#Importing the Dataset
# Useful imports
import numpy as np
import pandas as pd
import matplotlib.pyplot as plt
import seaborn as sns
from bokeh.plotting import figure, output_file, show
from bokeh.io import output_notebook
output_notebook()
%matplotlib inline
from sklearn import datasets, linear_model
from sklearn.model_selection import train_test_split
from matplotlib import pyplot as plt
WA = pd.read_csv('WAhousingdata.csv')
#https://www.kaggle.com/shree1992/housedata#data.csv
#WA.columns = WAdata.feature_names
WA.head()
#WAdata = sklearn.datasets.load_WA()
#print(WAdata.DESCR)
print(WA.head())
WA.info()

